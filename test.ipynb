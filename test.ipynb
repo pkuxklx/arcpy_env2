{
 "cells": [
  {
   "cell_type": "markdown",
   "metadata": {},
   "source": [
    "### Initialize"
   ]
  },
  {
   "cell_type": "code",
   "execution_count": 6,
   "metadata": {
    "ExecuteTime": {
     "end_time": "2022-10-21T03:52:23.144866Z",
     "start_time": "2022-10-21T03:52:21.703821Z"
    }
   },
   "outputs": [
    {
     "data": {
      "text/plain": [
       "\"\\nfrom imp import reload\\nimport sys\\nreload(sys)\\nsys.setdefaultencoding('utf8')\\n\""
      ]
     },
     "execution_count": 6,
     "metadata": {},
     "output_type": "execute_result"
    }
   ],
   "source": [
    "import arcpy, os, sys, math\n",
    "import pandas as pd\n",
    "from utils.my_api import InitPath, deleteIfExist, getFieldList, reorder_fields, removeAllJoins\n",
    "# 显示中文编码\n",
    "'''\n",
    "from imp import reload\n",
    "import sys\n",
    "reload(sys)\n",
    "sys.setdefaultencoding('utf8')\n",
    "'''"
   ]
  },
  {
   "cell_type": "code",
   "execution_count": 2,
   "metadata": {},
   "outputs": [
    {
     "name": "stdout",
     "output_type": "stream",
     "text": [
      "D:\\COURSES\\ADAS_intern\\arcpy_env\n",
      "D:\\COURSES\\ADAS_intern\\arcpy_env\\GisData\n"
     ]
    }
   ],
   "source": [
    "folder_path, gdb_path = InitPath(scratch_path = \"D:\\\\COURSES\\\\ADAS_intern\\\\arcpy_env\", \n",
    "                                 gdb_name = \"GisData\")\n",
    "print(folder_path)\n",
    "print(gdb_path)"
   ]
  },
  {
   "cell_type": "code",
   "execution_count": 3,
   "metadata": {},
   "outputs": [],
   "source": [
    "arcpy.env.workspace = gdb_path \n",
    "arcpy.env.overwriteOutput = True "
   ]
  },
  {
   "cell_type": "markdown",
   "metadata": {},
   "source": [
    "### 1.1 ??? 环境设置"
   ]
  },
  {
   "cell_type": "code",
   "execution_count": 4,
   "metadata": {},
   "outputs": [
    {
     "name": "stdout",
     "output_type": "stream",
     "text": [
      "GCS_China_Geodetic_Coordinate_System_2000\n"
     ]
    }
   ],
   "source": [
    "newCoordinate = arcpy.SpatialReference(4490)\n",
    "print(newCoordinate.name)\n",
    "arcpy.env.outputCoordinateSystem = newCoordinate"
   ]
  },
  {
   "cell_type": "markdown",
   "metadata": {},
   "source": [
    "### 1.2"
   ]
  },
  {
   "cell_type": "code",
   "execution_count": 7,
   "metadata": {},
   "outputs": [
    {
     "name": "stdout",
     "output_type": "stream",
     "text": [
      "Doesn't exist.\n"
     ]
    }
   ],
   "source": [
    "outFeatures = \"grid_90.shp\"\n",
    "deleteIfExist(outFeatures, 0)"
   ]
  },
  {
   "cell_type": "code",
   "execution_count": 8,
   "metadata": {},
   "outputs": [],
   "source": [
    "originCoordinate = \"73 0\"\n",
    "yAxisCoordinate = \"73 10\"\n",
    "cornerCoordinate = \"136 54\"\n",
    "number_rows = 2160\n",
    "number_cols = 2520\n",
    "labels = \"NO_LABELS\"\n",
    "geoType = \"POLYGON\""
   ]
  },
  {
   "cell_type": "code",
   "execution_count": 9,
   "metadata": {},
   "outputs": [
    {
     "data": {
      "text/plain": [
       "<Result 'D:\\\\COURSES\\\\ADAS_intern\\\\arcpy_env\\\\GisData\\\\grid_90.shp'>"
      ]
     },
     "execution_count": 9,
     "metadata": {},
     "output_type": "execute_result"
    }
   ],
   "source": [
    "arcpy.CreateFishnet_management(out_feature_class = outFeatures, \n",
    "                               origin_coord = originCoordinate, y_axis_coord = yAxisCoordinate, corner_coord = cornerCoordinate, \n",
    "                               number_rows = number_rows, number_columns = number_cols, \n",
    "                               labels = labels, \n",
    "                               geometry_type = geoType)"
   ]
  },
  {
   "cell_type": "code",
   "execution_count": 11,
   "metadata": {},
   "outputs": [
    {
     "data": {
      "text/plain": [
       "[{'name': u'FID', 'required': True, 'type': u'OID'},\n",
       " {'name': u'Shape', 'required': True, 'type': u'Geometry'},\n",
       " {'name': u'Id', 'required': False, 'type': u'Integer'}]"
      ]
     },
     "execution_count": 11,
     "metadata": {},
     "output_type": "execute_result"
    }
   ],
   "source": [
    "getFieldList(outFeatures)"
   ]
  },
  {
   "cell_type": "markdown",
   "metadata": {},
   "source": [
    "# 输入区域参数"
   ]
  },
  {
   "cell_type": "code",
   "execution_count": 4,
   "metadata": {},
   "outputs": [],
   "source": [
    "regionName = \"太原市-迎泽区\"\n",
    "level = regionName.count('-')"
   ]
  },
  {
   "cell_type": "code",
   "execution_count": 42,
   "metadata": {},
   "outputs": [
    {
     "name": "stdout",
     "output_type": "stream",
     "text": [
      "太原市-迎泽区\n",
      "19\n",
      "1\n"
     ]
    }
   ],
   "source": [
    "print(regionName)\n",
    "print(len(regionName))\n",
    "print(level)"
   ]
  },
  {
   "cell_type": "code",
   "execution_count": 21,
   "metadata": {},
   "outputs": [
    {
     "name": "stdout",
     "output_type": "stream",
     "text": [
      "迎泽区\n"
     ]
    }
   ],
   "source": [
    "df = pd.read_csv(\"area_code.csv\", encoding = \"gbk\")\n",
    "# df = df.stack().unstack(0)\n",
    "briefName = regionName.split('-')[level]\n",
    "print briefName"
   ]
  },
  {
   "cell_type": "code",
   "execution_count": 34,
   "metadata": {},
   "outputs": [],
   "source": [
    "areaCode = dict()\n",
    "for index, row in df.iterrows():\n",
    "    areaCodeDict[row[0]] = str(row[1])"
   ]
  },
  {
   "cell_type": "code",
   "execution_count": 37,
   "metadata": {},
   "outputs": [
    {
     "name": "stdout",
     "output_type": "stream",
     "text": [
      "迎泽区\n",
      "140106\n"
     ]
    }
   ],
   "source": [
    "print briefName\n",
    "print areaCode[unicode(briefName, 'utf-8')]"
   ]
  },
  {
   "cell_type": "code",
   "execution_count": 26,
   "metadata": {},
   "outputs": [
    {
     "name": "stdout",
     "output_type": "stream",
     "text": [
      "0       太原市\n",
      "1       小店区\n",
      "2       迎泽区\n",
      "3      杏花岭区\n",
      "4      尖草坪区\n",
      "5      万柏林区\n",
      "6       晋源区\n",
      "7       清徐县\n",
      "8       阳曲县\n",
      "9       娄烦县\n",
      "10      古交市\n",
      "11      大同市\n",
      "12      新荣区\n",
      "13      平城区\n",
      "14      云冈区\n",
      "15      云州区\n",
      "16      阳高县\n",
      "17      天镇县\n",
      "18      广灵县\n",
      "19      灵丘县\n",
      "20      浑源县\n",
      "21      左云县\n",
      "22      阳泉市\n",
      "23     阳泉城区\n",
      "24     阳泉矿区\n",
      "25     阳泉郊区\n",
      "26      平定县\n",
      "27       盂县\n",
      "28      长治市\n",
      "29      潞州区\n",
      "       ... \n",
      "98      曲沃县\n",
      "99      翼城县\n",
      "100     襄汾县\n",
      "101     洪洞县\n",
      "102      古县\n",
      "103     安泽县\n",
      "104     浮山县\n",
      "105      吉县\n",
      "106     乡宁县\n",
      "107     大宁县\n",
      "108      隰县\n",
      "109     永和县\n",
      "110      蒲县\n",
      "111     汾西县\n",
      "112     侯马市\n",
      "113     霍州市\n",
      "114     吕梁市\n",
      "115     离石区\n",
      "116     文水县\n",
      "117     交城县\n",
      "118      兴县\n",
      "119      临县\n",
      "120     柳林县\n",
      "121     石楼县\n",
      "122      岚县\n",
      "123     方山县\n",
      "124     中阳县\n",
      "125     交口县\n",
      "126     孝义市\n",
      "127     汾阳市\n",
      "Name: 山西省, dtype: object\n"
     ]
    }
   ],
   "source": [
    "col = df.iloc[:, 0]\n",
    "print col1"
   ]
  },
  {
   "cell_type": "code",
   "execution_count": 24,
   "metadata": {},
   "outputs": [
    {
     "data": {
      "text/plain": [
       "u'\\u5c71\\u897f\\u7701'"
      ]
     },
     "execution_count": 24,
     "metadata": {},
     "output_type": "execute_result"
    }
   ],
   "source": [
    "u\"山西省\""
   ]
  },
  {
   "cell_type": "code",
   "execution_count": 39,
   "metadata": {},
   "outputs": [
    {
     "data": {
      "text/plain": [
       "'\\xe8\\xbf\\x8e\\xe6\\xb3\\xbd\\xe5\\x8c\\xba'"
      ]
     },
     "execution_count": 39,
     "metadata": {},
     "output_type": "execute_result"
    }
   ],
   "source": [
    "get area_code 14xxxxx"
   ]
  },
  {
   "cell_type": "markdown",
   "metadata": {},
   "source": [
    "### 2"
   ]
  },
  {
   "cell_type": "markdown",
   "metadata": {},
   "source": [
    "similar as 4.4"
   ]
  },
  {
   "cell_type": "code",
   "execution_count": 13,
   "metadata": {},
   "outputs": [
    {
     "name": "stdout",
     "output_type": "stream",
     "text": [
      "Already exist.\n"
     ]
    }
   ],
   "source": [
    "inFeatures = \"gw.shp\"\n",
    "outFeatures = \"difang_30s.shp\"\n",
    "deleteIfExist(outFeatures, 0)"
   ]
  },
  {
   "cell_type": "code",
   "execution_count": 14,
   "metadata": {},
   "outputs": [
    {
     "data": {
      "text/plain": [
       "<Result 'D:\\\\COURSES\\\\ADAS_intern\\\\arcpy_env\\\\GisData\\\\difang_30s.shp'>"
      ]
     },
     "execution_count": 14,
     "metadata": {},
     "output_type": "execute_result"
    }
   ],
   "source": [
    "arcpy.Select_analysis(in_features = inFeatures, \n",
    "                      out_feature_class = outFeatures, \n",
    "                      where_clause = \"area_code LIKE '1401%'\")"
   ]
  },
  {
   "cell_type": "markdown",
   "metadata": {},
   "source": [
    "### 3.1"
   ]
  },
  {
   "cell_type": "markdown",
   "metadata": {},
   "source": [
    "加载？  \n",
    "#help('arcpy.mapping.MapDocument')"
   ]
  },
  {
   "cell_type": "markdown",
   "metadata": {},
   "source": [
    "### 3.1~3.3"
   ]
  },
  {
   "cell_type": "code",
   "execution_count": 15,
   "metadata": {},
   "outputs": [],
   "source": [
    "inFeatures = \"grid_90.shp\" # selection applied to\n",
    "targetLayer = \"grid_90.lyr\"\n",
    "sourceLayer = \"difang_30s.shp\""
   ]
  },
  {
   "cell_type": "markdown",
   "metadata": {},
   "source": [
    "??? https://blog.csdn.net/gognzixiaobai666/article/details/112919955"
   ]
  },
  {
   "cell_type": "code",
   "execution_count": 16,
   "metadata": {},
   "outputs": [
    {
     "data": {
      "text/plain": [
       "<Result 'grid_90.lyr'>"
      ]
     },
     "execution_count": 16,
     "metadata": {},
     "output_type": "execute_result"
    }
   ],
   "source": [
    "arcpy.MakeFeatureLayer_management(in_features = inFeatures, out_layer = targetLayer)"
   ]
  },
  {
   "cell_type": "code",
   "execution_count": 17,
   "metadata": {},
   "outputs": [],
   "source": [
    "select = arcpy.SelectLayerByLocation_management(in_layer = targetLayer, \n",
    "                                                overlap_type = \"INTERSECT\", # default\n",
    "                                                select_features = sourceLayer, \n",
    "                                                selection_type = \"NEW_SELECTION\") # default"
   ]
  },
  {
   "cell_type": "code",
   "execution_count": 22,
   "metadata": {},
   "outputs": [
    {
     "data": {
      "text/plain": [
       "<Result 'D:\\\\COURSES\\\\ADAS_intern\\\\arcpy_env\\\\GisData\\\\grid_90_difang.shp'>"
      ]
     },
     "execution_count": 22,
     "metadata": {},
     "output_type": "execute_result"
    }
   ],
   "source": [
    "outFeatures = \"grid_90_difang.shp\"\n",
    "arcpy.CopyFeatures_management(in_features = select, \n",
    "                              out_feature_class = outFeatures)"
   ]
  },
  {
   "cell_type": "code",
   "execution_count": 23,
   "metadata": {},
   "outputs": [
    {
     "name": "stdout",
     "output_type": "stream",
     "text": [
      "10208\n",
      "1311\n"
     ]
    }
   ],
   "source": [
    "print arcpy.GetCount_management(sourceLayer)\n",
    "print arcpy.GetCount_management(outFeatures)"
   ]
  },
  {
   "cell_type": "markdown",
   "metadata": {},
   "source": [
    "### 3.4"
   ]
  },
  {
   "cell_type": "code",
   "execution_count": 39,
   "metadata": {},
   "outputs": [],
   "source": [
    "inFeatures = \"grid_90_difang.shp\"\n",
    "clipFeatures = \"difang_30s.shp\"\n",
    "outFeatures = \"difang_90s_mlt.shp\" # multi part"
   ]
  },
  {
   "cell_type": "code",
   "execution_count": 29,
   "metadata": {},
   "outputs": [
    {
     "data": {
      "text/plain": [
       "<Result 'D:\\\\COURSES\\\\ADAS_intern\\\\arcpy_env\\\\GisData\\\\difang_90s.shp'>"
      ]
     },
     "execution_count": 29,
     "metadata": {},
     "output_type": "execute_result"
    }
   ],
   "source": [
    "arcpy.Clip_analysis(in_features = inFeatures, \n",
    "                    clip_features = clipFeatures, \n",
    "                    out_feature_class = outFeatures)"
   ]
  },
  {
   "cell_type": "markdown",
   "metadata": {},
   "source": [
    "### 3.5"
   ]
  },
  {
   "cell_type": "markdown",
   "metadata": {},
   "source": [
    "similar as 4.2"
   ]
  },
  {
   "cell_type": "code",
   "execution_count": 30,
   "metadata": {},
   "outputs": [],
   "source": [
    "inFeatures = \"difang_90s_mlt.shp\"\n",
    "outFeatures = \"difang_90s.shp\""
   ]
  },
  {
   "cell_type": "code",
   "execution_count": 33,
   "metadata": {},
   "outputs": [
    {
     "name": "stdout",
     "output_type": "stream",
     "text": [
      "Already exist.\n",
      "Successfully delete the old difang_90s.shp.\n"
     ]
    },
    {
     "data": {
      "text/plain": [
       "<Result 'D:\\\\COURSES\\\\ADAS_intern\\\\arcpy_env\\\\GisData\\\\difang_90s.shp'>"
      ]
     },
     "execution_count": 33,
     "metadata": {},
     "output_type": "execute_result"
    }
   ],
   "source": [
    "deleteIfExist(outFeatures)\n",
    "arcpy.MultipartToSinglepart_management(in_features = inFeatures, \n",
    "                                       out_feature_class = outFeatures)"
   ]
  },
  {
   "cell_type": "markdown",
   "metadata": {},
   "source": [
    "### 3.6"
   ]
  },
  {
   "cell_type": "code",
   "execution_count": 34,
   "metadata": {},
   "outputs": [],
   "source": [
    "shp = \"difang_90s.shp\"\n",
    "newField = \"编号\"\n",
    "newType = \"SHORT\""
   ]
  },
  {
   "cell_type": "code",
   "execution_count": 35,
   "metadata": {},
   "outputs": [
    {
     "data": {
      "text/plain": [
       "<Result 'D:\\\\COURSES\\\\ADAS_intern\\\\arcpy_env\\\\GisData\\\\difang_90s.shp'>"
      ]
     },
     "execution_count": 35,
     "metadata": {},
     "output_type": "execute_result"
    }
   ],
   "source": [
    "arcpy.AddField_management(in_table = shp, \n",
    "                          field_name = newField, \n",
    "                          field_type = newType)"
   ]
  },
  {
   "cell_type": "markdown",
   "metadata": {},
   "source": [
    "### 3.7"
   ]
  },
  {
   "cell_type": "code",
   "execution_count": 36,
   "metadata": {},
   "outputs": [
    {
     "data": {
      "text/plain": [
       "<Result 'D:\\\\COURSES\\\\ADAS_intern\\\\arcpy_env\\\\GisData\\\\difang_90s.shp'>"
      ]
     },
     "execution_count": 36,
     "metadata": {},
     "output_type": "execute_result"
    }
   ],
   "source": [
    "arcpy.CalculateField_management(in_table = shp, \n",
    "                                field = newField, \n",
    "                                expression = \"!FID!\", \n",
    "                                expression_type = \"PYTHON\")"
   ]
  },
  {
   "cell_type": "code",
   "execution_count": 37,
   "metadata": {},
   "outputs": [
    {
     "name": "stdout",
     "output_type": "stream",
     "text": [
      "(0, 1235)\n"
     ]
    }
   ],
   "source": [
    "with arcpy.da.SearchCursor(in_table = shp, field_names = newField) as cursor:\n",
    "    # an iterable object\n",
    "    vals = [row[0] for row in cursor]\n",
    "    maxVal = max(vals)\n",
    "    minVal = min(vals)\n",
    "    print(minVal, maxVal)"
   ]
  },
  {
   "cell_type": "code",
   "execution_count": 38,
   "metadata": {},
   "outputs": [
    {
     "name": "stdout",
     "output_type": "stream",
     "text": [
      "There are 编号 <= 0.\n",
      "Update complete.\n"
     ]
    }
   ],
   "source": [
    "if minVal <= 0:\n",
    "    print(\"There are {} <= 0.\".format(newField))\n",
    "    with arcpy.da.UpdateCursor(in_table = shp, field_names = newField) as cursor:\n",
    "        for row in cursor:\n",
    "            if row[0] <= 0:\n",
    "                maxVal += 1\n",
    "                row[0] = maxVal\n",
    "                cursor.updateRow(row)\n",
    "    print(\"Update complete.\")\n",
    "else:\n",
    "    print(\"All {} >= 1.\".format(newField))"
   ]
  },
  {
   "cell_type": "markdown",
   "metadata": {},
   "source": [
    "# 输入图片参数"
   ]
  },
  {
   "cell_type": "code",
   "execution_count": 40,
   "metadata": {},
   "outputs": [],
   "source": [
    "figNameList = [\"地质灾害风险区划图\", \"地质灾害危险性等级图\", \"地质灾害防治区划图\"] # global"
   ]
  },
  {
   "cell_type": "code",
   "execution_count": 41,
   "metadata": {},
   "outputs": [],
   "source": [
    "figID = 1\n",
    "figName = figNameList[figID - 1]"
   ]
  },
  {
   "cell_type": "markdown",
   "metadata": {},
   "source": [
    "http://www.ontool.cn/unicode/"
   ]
  },
  {
   "cell_type": "markdown",
   "metadata": {},
   "source": [
    "for root, dirs, files in os.walk(\"D:\\\\COURSES\\\\ADAS_intern\\\\arcpy_env\"):\n",
    "    print(root)\n",
    "    for dir in dirs:\n",
    "        print(dir)    #输出所有子目录名（不含路径）\n",
    "    for f in files:\n",
    "        print(f)      #输出所有文件名（不含路径）\n"
   ]
  },
  {
   "cell_type": "markdown",
   "metadata": {},
   "source": [
    "### 4.1"
   ]
  },
  {
   "cell_type": "code",
   "execution_count": 45,
   "metadata": {},
   "outputs": [
    {
     "name": "stdout",
     "output_type": "stream",
     "text": [
      "Successfully find the data D:\\COURSES\\ADAS_intern\\arcpy_env\\20221025山西地质数据\\太原市-迎泽区\\地质灾害风险区划图-山西省太原市迎泽区.shp\n"
     ]
    }
   ],
   "source": [
    "sourceData = unicode(\"D:\\\\COURSES\\\\ADAS_intern\\\\arcpy_env\\\\20221025山西地质数据\\\\\" + region + \"\\\\\" + figName + \"-山西省\" + \"\".join(region.split('-')) + \".shp\", 'utf-8')\n",
    "if not os.path.exists(sourceData):\n",
    "    raise Exception(\"Data\" + sourceData + \"doesn't exist.\")\n",
    "else:\n",
    "    print(\"Successfully find the data.\" + sourceData)"
   ]
  },
  {
   "cell_type": "code",
   "execution_count": 48,
   "metadata": {},
   "outputs": [],
   "source": [
    "inFeatures = [\"difang_90s.shp\", sourceData]\n",
    "outFeatures = \"DZT_difang_90s_mlt.shp\" # DZFZT = 地质防治图"
   ]
  },
  {
   "cell_type": "code",
   "execution_count": 49,
   "metadata": {},
   "outputs": [
    {
     "data": {
      "text/plain": [
       "<Result 'D:\\\\COURSES\\\\ADAS_intern\\\\arcpy_env\\\\GisData\\\\DZT_difang_90s_mlt.shp'>"
      ]
     },
     "execution_count": 49,
     "metadata": {},
     "output_type": "execute_result"
    }
   ],
   "source": [
    "arcpy.Union_analysis(inFeatures, outFeatures) # 4.1"
   ]
  },
  {
   "cell_type": "markdown",
   "metadata": {},
   "source": [
    "### 4.2 ???"
   ]
  },
  {
   "cell_type": "code",
   "execution_count": 50,
   "metadata": {},
   "outputs": [],
   "source": [
    "inFeatures = \"DZT_difang_90s_mlt.shp\"\n",
    "outFeatures = \"DZT_difang_90s.shp\""
   ]
  },
  {
   "cell_type": "code",
   "execution_count": 51,
   "metadata": {},
   "outputs": [
    {
     "data": {
      "text/plain": [
       "<Result 'D:\\\\COURSES\\\\ADAS_intern\\\\arcpy_env\\\\GisData\\\\DZT_difang_90s.shp'>"
      ]
     },
     "execution_count": 51,
     "metadata": {},
     "output_type": "execute_result"
    }
   ],
   "source": [
    "arcpy.MultipartToSinglepart_management(in_features = inFeatures, \n",
    "                                       out_feature_class = outFeatures)"
   ]
  },
  {
   "cell_type": "markdown",
   "metadata": {},
   "source": [
    "### 4.3"
   ]
  },
  {
   "cell_type": "code",
   "execution_count": 52,
   "metadata": {},
   "outputs": [],
   "source": [
    "shp = \"DZT_difang_90s.shp\"\n",
    "newField = \"dz_mj\"\n",
    "newType = \"DOUBLE\""
   ]
  },
  {
   "cell_type": "code",
   "execution_count": 53,
   "metadata": {},
   "outputs": [
    {
     "data": {
      "text/plain": [
       "<Result 'D:\\\\COURSES\\\\ADAS_intern\\\\arcpy_env\\\\GisData\\\\DZT_difang_90s.shp'>"
      ]
     },
     "execution_count": 53,
     "metadata": {},
     "output_type": "execute_result"
    }
   ],
   "source": [
    "arcpy.AddField_management(in_table = shp, \n",
    "                          field_name = newField, \n",
    "                          field_type = newType)\n",
    "# getFieldList(shp)"
   ]
  },
  {
   "cell_type": "markdown",
   "metadata": {},
   "source": [
    "算成大面积？"
   ]
  },
  {
   "cell_type": "code",
   "execution_count": 54,
   "metadata": {},
   "outputs": [
    {
     "data": {
      "text/plain": [
       "<Result 'D:\\\\COURSES\\\\ADAS_intern\\\\arcpy_env\\\\GisData\\\\DZT_difang_90s.shp'>"
      ]
     },
     "execution_count": 54,
     "metadata": {},
     "output_type": "execute_result"
    }
   ],
   "source": [
    "arcpy.CalculateField_management(in_table = shp, field = newField, \n",
    "                                expression = \"!shape.area!\", \n",
    "                                expression_type = \"PYTHON\")"
   ]
  },
  {
   "cell_type": "markdown",
   "metadata": {},
   "source": [
    "### 4.4"
   ]
  },
  {
   "cell_type": "code",
   "execution_count": 56,
   "metadata": {},
   "outputs": [],
   "source": [
    "inFeatures = \"DZT_difang_90s.shp\"\n",
    "outFeatures = \"Export_Output_DZT.shp\""
   ]
  },
  {
   "cell_type": "code",
   "execution_count": 57,
   "metadata": {},
   "outputs": [
    {
     "data": {
      "text/plain": [
       "<Result 'D:\\\\COURSES\\\\ADAS_intern\\\\arcpy_env\\\\GisData\\\\Export_Output_DZT.shp'>"
      ]
     },
     "execution_count": 57,
     "metadata": {},
     "output_type": "execute_result"
    }
   ],
   "source": [
    "arcpy.Select_analysis(in_features = inFeatures, \n",
    "                      out_feature_class = outFeatures, \n",
    "                      where_clause = \"等级值<>0\")"
   ]
  },
  {
   "cell_type": "markdown",
   "metadata": {},
   "source": [
    "### 4.5"
   ]
  },
  {
   "cell_type": "markdown",
   "metadata": {},
   "source": [
    "输出在默认的default.gdb"
   ]
  },
  {
   "cell_type": "code",
   "execution_count": 58,
   "metadata": {},
   "outputs": [],
   "source": [
    "inFeatures = \"Export_Output_DZT.shp\"\n",
    "outFeatures = \"C:\\\\Users\\\\lx\\\\Documents\\\\ArcGIS\\\\Default.gdb\\\\Export_Output_DZT_Freq\"\n",
    "# outFeatures = \"Export_Output_DZFZT_Freq.dbf\""
   ]
  },
  {
   "cell_type": "code",
   "execution_count": 59,
   "metadata": {},
   "outputs": [
    {
     "data": {
      "text/plain": [
       "<Result 'C:\\\\Users\\\\lx\\\\Documents\\\\ArcGIS\\\\Default.gdb\\\\Export_Output_DZT_Freq'>"
      ]
     },
     "execution_count": 59,
     "metadata": {},
     "output_type": "execute_result"
    }
   ],
   "source": [
    "arcpy.Frequency_analysis(in_table = inFeatures, \n",
    "                         out_table = outFeatures, \n",
    "                         frequency_fields = \"编号\", \n",
    "                         summary_fields = \"dz_mj\")"
   ]
  },
  {
   "cell_type": "code",
   "execution_count": 60,
   "metadata": {},
   "outputs": [
    {
     "name": "stdout",
     "output_type": "stream",
     "text": [
      "C:\\Users\\lx\\Documents\\ArcGIS\\Default.gdb\\Export_Output_DZT_Freq\n"
     ]
    },
    {
     "data": {
      "text/plain": [
       "[{'name': u'OBJECTID', 'required': True, 'type': u'OID'},\n",
       " {'name': u'FREQUENCY', 'required': False, 'type': u'Integer'},\n",
       " {'name': u'\\u7f16\\u53f7', 'required': False, 'type': u'Integer'},\n",
       " {'name': u'dz_mj', 'required': False, 'type': u'Double'}]"
      ]
     },
     "execution_count": 60,
     "metadata": {},
     "output_type": "execute_result"
    }
   ],
   "source": [
    "print(outFeatures)\n",
    "getFieldList(outFeatures)"
   ]
  },
  {
   "cell_type": "markdown",
   "metadata": {},
   "source": [
    "### 4.6"
   ]
  },
  {
   "cell_type": "code",
   "execution_count": 61,
   "metadata": {},
   "outputs": [
    {
     "name": "stdout",
     "output_type": "stream",
     "text": [
      "C:\\Users\\lx\\Documents\\ArcGIS\\Default.gdb\\Export_Output_DZT_Freq\n"
     ]
    }
   ],
   "source": [
    "tab1 = \"Export_Output_DZT.shp\"\n",
    "tab2 = outFeatures\n",
    "print(tab2)"
   ]
  },
  {
   "cell_type": "code",
   "execution_count": 62,
   "metadata": {},
   "outputs": [
    {
     "data": {
      "text/plain": [
       "<Result 'D:\\\\COURSES\\\\ADAS_intern\\\\arcpy_env\\\\GisData\\\\Export_Output_DZT.shp'>"
      ]
     },
     "execution_count": 62,
     "metadata": {},
     "output_type": "execute_result"
    }
   ],
   "source": [
    "# join 2 tables \n",
    "# on \"in_data.in_field = join_table.join_field\"\n",
    "# only incorporate \"fields\" into \"tab1\"\n",
    "arcpy.JoinField_management(in_data = tab1, \n",
    "                           in_field = \"编号\", \n",
    "                           join_table = tab2, \n",
    "                           join_field = \"编号\", \n",
    "                           fields = [\"dz_mj\"])"
   ]
  },
  {
   "cell_type": "code",
   "execution_count": 63,
   "metadata": {},
   "outputs": [
    {
     "name": "stdout",
     "output_type": "stream",
     "text": [
      "Export_Output_DZT.shp\n"
     ]
    },
    {
     "data": {
      "text/plain": [
       "[{'name': u'FID', 'required': True, 'type': u'OID'},\n",
       " {'name': u'Shape', 'required': True, 'type': u'Geometry'},\n",
       " {'name': u'FID_difang', 'required': False, 'type': u'Integer'},\n",
       " {'name': u'Id', 'required': False, 'type': u'Integer'},\n",
       " {'name': u'ORIG_FID', 'required': False, 'type': u'Integer'},\n",
       " {'name': u'\\u7f16\\u53f7', 'required': False, 'type': u'Integer'},\n",
       " {'name': u'FID_\\u5730\\u8d28', 'required': False, 'type': u'Integer'},\n",
       " {'name': u'\\u884c\\u653f\\u7701', 'required': False, 'type': u'String'},\n",
       " {'name': u'\\u884c\\u653f\\u5e02', 'required': False, 'type': u'String'},\n",
       " {'name': u'\\u884c\\u653f\\u53bf', 'required': False, 'type': u'String'},\n",
       " {'name': u'\\u66f4\\u65b0\\u65f6', 'required': False, 'type': u'String'},\n",
       " {'name': u'\\u884c\\u4e1a', 'required': False, 'type': u'String'},\n",
       " {'name': u'\\u7b49\\u7ea7\\u503c', 'required': False, 'type': u'Integer'},\n",
       " {'name': u'dz_mj', 'required': False, 'type': u'Double'},\n",
       " {'name': u'dz_mj_1', 'required': False, 'type': u'Double'}]"
      ]
     },
     "execution_count": 63,
     "metadata": {},
     "output_type": "execute_result"
    }
   ],
   "source": [
    "print(tab1)\n",
    "getFieldList(tab1)"
   ]
  },
  {
   "cell_type": "markdown",
   "metadata": {},
   "source": [
    "### 4.7"
   ]
  },
  {
   "cell_type": "markdown",
   "metadata": {},
   "source": [
    "same as 4.3"
   ]
  },
  {
   "cell_type": "code",
   "execution_count": 64,
   "metadata": {},
   "outputs": [],
   "source": [
    "shp = \"Export_Output_DZT.shp\"\n",
    "newField = \"djz_zb\"\n",
    "newType = \"DOUBLE\""
   ]
  },
  {
   "cell_type": "code",
   "execution_count": 65,
   "metadata": {},
   "outputs": [
    {
     "data": {
      "text/plain": [
       "<Result 'D:\\\\COURSES\\\\ADAS_intern\\\\arcpy_env\\\\GisData\\\\Export_Output_DZT.shp'>"
      ]
     },
     "execution_count": 65,
     "metadata": {},
     "output_type": "execute_result"
    }
   ],
   "source": [
    "arcpy.AddField_management(in_table = shp, \n",
    "                          field_name = newField, \n",
    "                          field_type = newType)"
   ]
  },
  {
   "cell_type": "code",
   "execution_count": 66,
   "metadata": {},
   "outputs": [
    {
     "data": {
      "text/plain": [
       "<Result 'D:\\\\COURSES\\\\ADAS_intern\\\\arcpy_env\\\\GisData\\\\Export_Output_DZT.shp'>"
      ]
     },
     "execution_count": 66,
     "metadata": {},
     "output_type": "execute_result"
    }
   ],
   "source": [
    "arcpy.CalculateField_management(in_table = shp, field = newField, \n",
    "                                expression = \"!dz_mj! / !dz_mj_1! * !等级值!\", \n",
    "                                expression_type = \"PYTHON\")"
   ]
  },
  {
   "cell_type": "markdown",
   "metadata": {},
   "source": [
    "### 4.8"
   ]
  },
  {
   "cell_type": "markdown",
   "metadata": {},
   "source": [
    "same as 4.5"
   ]
  },
  {
   "cell_type": "code",
   "execution_count": 67,
   "metadata": {},
   "outputs": [],
   "source": [
    "in_shp = \"Export_Output_DZT.shp\"\n",
    "out_tab = \"C:\\\\Users\\\\lx\\\\Documents\\\\ArcGIS\\\\Default.gdb\\\\Export_Output_DZT_Freq1\""
   ]
  },
  {
   "cell_type": "code",
   "execution_count": 68,
   "metadata": {},
   "outputs": [
    {
     "data": {
      "text/plain": [
       "<Result 'C:\\\\Users\\\\lx\\\\Documents\\\\ArcGIS\\\\Default.gdb\\\\Export_Output_DZT_Freq1'>"
      ]
     },
     "execution_count": 68,
     "metadata": {},
     "output_type": "execute_result"
    }
   ],
   "source": [
    "arcpy.Frequency_analysis(in_table = in_shp, \n",
    "                         out_table = out_tab, \n",
    "                         frequency_fields = \"编号\", \n",
    "                         summary_fields = \"djz_zb\")"
   ]
  },
  {
   "cell_type": "code",
   "execution_count": 69,
   "metadata": {},
   "outputs": [
    {
     "data": {
      "text/plain": [
       "True"
      ]
     },
     "execution_count": 69,
     "metadata": {},
     "output_type": "execute_result"
    }
   ],
   "source": [
    "arcpy.Exists(out_tab)"
   ]
  },
  {
   "cell_type": "markdown",
   "metadata": {},
   "source": [
    "### 4.9"
   ]
  },
  {
   "cell_type": "markdown",
   "metadata": {},
   "source": [
    "same as 4.6"
   ]
  },
  {
   "cell_type": "code",
   "execution_count": 71,
   "metadata": {},
   "outputs": [
    {
     "name": "stdout",
     "output_type": "stream",
     "text": [
      "C:\\Users\\lx\\Documents\\ArcGIS\\Default.gdb\\Export_Output_DZT_Freq1\n"
     ]
    }
   ],
   "source": [
    "tab1 = \"difang_90s.shp\"\n",
    "tab2 = out_tab\n",
    "print(tab2)"
   ]
  },
  {
   "cell_type": "code",
   "execution_count": 72,
   "metadata": {},
   "outputs": [
    {
     "data": {
      "text/plain": [
       "[{'name': u'OBJECTID', 'required': True, 'type': u'OID'},\n",
       " {'name': u'FREQUENCY', 'required': False, 'type': u'Integer'},\n",
       " {'name': u'\\u7f16\\u53f7', 'required': False, 'type': u'Integer'},\n",
       " {'name': u'djz_zb', 'required': False, 'type': u'Double'}]"
      ]
     },
     "execution_count": 72,
     "metadata": {},
     "output_type": "execute_result"
    }
   ],
   "source": [
    "getFieldList(tab2)"
   ]
  },
  {
   "cell_type": "code",
   "execution_count": 73,
   "metadata": {},
   "outputs": [
    {
     "data": {
      "text/plain": [
       "<Result 'D:\\\\COURSES\\\\ADAS_intern\\\\arcpy_env\\\\GisData\\\\difang_90s.shp'>"
      ]
     },
     "execution_count": 73,
     "metadata": {},
     "output_type": "execute_result"
    }
   ],
   "source": [
    "arcpy.JoinField_management(in_data = tab1, \n",
    "                           in_field = \"编号\", \n",
    "                           join_table = tab2, \n",
    "                           join_field = \"编号\", \n",
    "                           fields = [\"djz_zb\"])"
   ]
  },
  {
   "cell_type": "code",
   "execution_count": 74,
   "metadata": {},
   "outputs": [
    {
     "name": "stdout",
     "output_type": "stream",
     "text": [
      "difang_90s.shp\n"
     ]
    },
    {
     "data": {
      "text/plain": [
       "[{'name': u'FID', 'required': True, 'type': u'OID'},\n",
       " {'name': u'Shape', 'required': True, 'type': u'Geometry'},\n",
       " {'name': u'Id', 'required': False, 'type': u'Integer'},\n",
       " {'name': u'ORIG_FID', 'required': False, 'type': u'Integer'},\n",
       " {'name': u'\\u7f16\\u53f7', 'required': False, 'type': u'Integer'},\n",
       " {'name': u'djz_zb', 'required': False, 'type': u'Double'}]"
      ]
     },
     "execution_count": 74,
     "metadata": {},
     "output_type": "execute_result"
    }
   ],
   "source": [
    "print(tab1)\n",
    "getFieldList(tab1)"
   ]
  },
  {
   "cell_type": "markdown",
   "metadata": {},
   "source": [
    "### 4.10"
   ]
  },
  {
   "cell_type": "markdown",
   "metadata": {},
   "source": [
    "same as 4.3"
   ]
  },
  {
   "cell_type": "code",
   "execution_count": 75,
   "metadata": {},
   "outputs": [],
   "source": [
    "shp = \"difang_90s.shp\"\n",
    "newField = \"等级\"\n",
    "newType = \"SHORT\""
   ]
  },
  {
   "cell_type": "code",
   "execution_count": 89,
   "metadata": {},
   "outputs": [
    {
     "data": {
      "text/plain": [
       "<Result 'D:\\\\COURSES\\\\ADAS_intern\\\\arcpy_env\\\\GisData\\\\DZT_30s_xxLevel.shp'>"
      ]
     },
     "execution_count": 89,
     "metadata": {},
     "output_type": "execute_result"
    }
   ],
   "source": [
    "arcpy.DeleteField_management(shp, newField)\n",
    "arcpy.AddField_management(in_table = shp, \n",
    "                          field_name = newField, \n",
    "                          field_type = newType)"
   ]
  },
  {
   "cell_type": "code",
   "execution_count": 90,
   "metadata": {},
   "outputs": [
    {
     "data": {
      "text/plain": [
       "<Result 'D:\\\\COURSES\\\\ADAS_intern\\\\arcpy_env\\\\GisData\\\\DZT_30s_xxLevel.shp'>"
      ]
     },
     "execution_count": 90,
     "metadata": {},
     "output_type": "execute_result"
    }
   ],
   "source": [
    "arcpy.CalculateField_management(in_table = shp, field = newField, \n",
    "                                expression = \"!djz_zb!\", \n",
    "                                expression_type = \"PYTHON\")"
   ]
  },
  {
   "cell_type": "markdown",
   "metadata": {},
   "source": [
    "### 4.11\n",
    "No join active. Ignore this step"
   ]
  },
  {
   "cell_type": "markdown",
   "metadata": {},
   "source": [
    "### 5.1"
   ]
  },
  {
   "cell_type": "code",
   "execution_count": 91,
   "metadata": {},
   "outputs": [],
   "source": [
    "targetFeatures = \"difang_30s.shp\"\n",
    "joinFeatures = \"difang_90s.shp\"\n",
    "outFeatures = \"DZT_30s_xxLevel.shp\" # name \"DZFZT(30s, xxLevel)\" output errors?"
   ]
  },
  {
   "cell_type": "code",
   "execution_count": 92,
   "metadata": {},
   "outputs": [
    {
     "name": "stdout",
     "output_type": "stream",
     "text": [
      "Already exist.\n",
      "Successfully delete the old DZT_30s_xxLevel.shp.\n"
     ]
    }
   ],
   "source": [
    "deleteIfExist(outFeatures)"
   ]
  },
  {
   "cell_type": "code",
   "execution_count": 93,
   "metadata": {},
   "outputs": [
    {
     "data": {
      "text/plain": [
       "<Result 'D:\\\\COURSES\\\\ADAS_intern\\\\arcpy_env\\\\GisData\\\\DZT_30s_xxLevel.shp'>"
      ]
     },
     "execution_count": 93,
     "metadata": {},
     "output_type": "execute_result"
    }
   ],
   "source": [
    "arcpy.SpatialJoin_analysis(target_features = targetFeatures, \n",
    "                           join_features = joinFeatures, \n",
    "                           out_feature_class = outFeatures, \n",
    "                           join_operation = \"JOIN_ONE_TO_ONE\", \n",
    "                           join_type = \"KEEP_ALL\")"
   ]
  },
  {
   "cell_type": "markdown",
   "metadata": {},
   "source": [
    "### 6.1\n",
    "添加字段"
   ]
  },
  {
   "cell_type": "code",
   "execution_count": 94,
   "metadata": {},
   "outputs": [
    {
     "data": {
      "text/plain": [
       "[{'name': u'FID', 'required': True, 'type': u'OID'},\n",
       " {'name': u'Shape', 'required': True, 'type': u'Geometry'},\n",
       " {'name': u'Join_Count', 'required': False, 'type': u'Integer'},\n",
       " {'name': u'TARGET_FID', 'required': False, 'type': u'Integer'},\n",
       " {'name': u'oid_1', 'required': False, 'type': u'Integer'},\n",
       " {'name': u'rows', 'required': False, 'type': u'Integer'},\n",
       " {'name': u'colums', 'required': False, 'type': u'Integer'},\n",
       " {'name': u'area_code', 'required': False, 'type': u'String'},\n",
       " {'name': u'\\u4e61', 'required': False, 'type': u'Double'},\n",
       " {'name': u'Id', 'required': False, 'type': u'Integer'},\n",
       " {'name': u'ORIG_FID', 'required': False, 'type': u'Integer'},\n",
       " {'name': u'\\u7f16\\u53f7', 'required': False, 'type': u'Integer'},\n",
       " {'name': u'djz_zb', 'required': False, 'type': u'Double'},\n",
       " {'name': u'\\u7b49\\u7ea7', 'required': False, 'type': u'Integer'}]"
      ]
     },
     "execution_count": 94,
     "metadata": {},
     "output_type": "execute_result"
    }
   ],
   "source": [
    "shp = \"DZT_30s_xxLevel.shp\"\n",
    "getFieldList(shp)"
   ]
  },
  {
   "cell_type": "code",
   "execution_count": 95,
   "metadata": {},
   "outputs": [
    {
     "data": {
      "text/plain": [
       "<Result 'D:\\\\COURSES\\\\ADAS_intern\\\\arcpy_env\\\\GisData\\\\DZT_30s_xxLevel.shp'>"
      ]
     },
     "execution_count": 95,
     "metadata": {},
     "output_type": "execute_result"
    }
   ],
   "source": [
    "arcpy.DeleteField_management(shp, \"乡\")"
   ]
  },
  {
   "cell_type": "code",
   "execution_count": 96,
   "metadata": {},
   "outputs": [],
   "source": [
    "fieldsInfo = [(\"物理主\", \"TEXT\"), (\"调查对\", \"TEXT\"), (\"行省\", \"TEXT\"), (\"行市\", \"TEXT\"), \n",
    "              (\"行县\", \"TEXT\"), (\"更时\", \"TEXT\"), (\"写时\", \"TEXT\"), (\"数据状\", \"TEXT\"), \n",
    "              (\"审核流\", \"TEXT\"), (\"审核状\", \"TEXT\"), (\"行业\", \"TEXT\"), (\"日期分\", \"TEXT\"), \n",
    "              (\"批次号\", \"TEXT\"), (\"乡\", \"TEXT\"), (\"等级值\", \"SHORT\")]\n",
    "# u'\\u4e61' 乡"
   ]
  },
  {
   "cell_type": "code",
   "execution_count": 97,
   "metadata": {},
   "outputs": [],
   "source": [
    "for name, type in fieldsInfo:\n",
    "    arcpy.AddField_management(in_table = shp, \n",
    "                              field_name = name, \n",
    "                              field_type = type)"
   ]
  },
  {
   "cell_type": "markdown",
   "metadata": {},
   "source": [
    "### 6.2\n",
    "计算字段"
   ]
  },
  {
   "cell_type": "code",
   "execution_count": 98,
   "metadata": {},
   "outputs": [
    {
     "data": {
      "text/plain": [
       "<Result 'D:\\\\COURSES\\\\ADAS_intern\\\\arcpy_env\\\\GisData\\\\DZT_30s_xxLevel.shp'>"
      ]
     },
     "execution_count": 98,
     "metadata": {},
     "output_type": "execute_result"
    }
   ],
   "source": [
    "arcpy.CalculateField_management(shp, \"乡\", \n",
    "                                \"[area_code]\")\n",
    "arcpy.CalculateField_management(shp, \"行省\", \n",
    "                                \"\\\"140000\\\"\")\n",
    "arcpy.CalculateField_management(shp, \"行市\", \n",
    "                                \"Left([乡], 4) & \\\"00\\\"\")\n",
    "arcpy.CalculateField_management(shp, \"行县\", \n",
    "                                \"Left([乡], 6)\")\n",
    "arcpy.CalculateField_management(shp, \"更时\", \n",
    "                                \"\\\"20221021 11:00:00\\\"\")\n",
    "arcpy.CalculateField_management(shp, \"数据状\", \n",
    "                                \"\\\"U\\\"\")\n",
    "arcpy.CalculateField_management(shp, \"审核流\", \n",
    "                                \"\\\"3\\\"\")\n",
    "arcpy.CalculateField_management(shp, \"审核状\", \n",
    "                                \"\\\"2\\\"\")\n",
    "arcpy.CalculateField_management(shp, \"行业\", \n",
    "                                \"\\\"019\\\"\")\n",
    "arcpy.CalculateField_management(shp, \"等级值\", \n",
    "                                \"[等级]\")"
   ]
  },
  {
   "cell_type": "code",
   "execution_count": 99,
   "metadata": {},
   "outputs": [],
   "source": [
    "for name in [\"调查对\", \"写时\", \"日期分\", \"批次号\"]:\n",
    "    arcpy.CalculateField_management(shp, name, \"\\\"\\\"\")"
   ]
  },
  {
   "cell_type": "markdown",
   "metadata": {},
   "source": [
    "### 6.3"
   ]
  },
  {
   "cell_type": "markdown",
   "metadata": {},
   "source": [
    "计算物理主键. 6位行政编码 + 第i张图 + 图内编号  \n",
    "例如: 140100 + 1 + 12"
   ]
  },
  {
   "cell_type": "code",
   "execution_count": 100,
   "metadata": {},
   "outputs": [
    {
     "name": "stdout",
     "output_type": "stream",
     "text": [
      "!行县! + \"1\" + str(!FID!)\n"
     ]
    }
   ],
   "source": [
    "expression = \"!行县! + \\\"\" + str(figID) + \"\\\" + str(!FID!)\"\n",
    "print(expression)\n",
    "# arcpy.GetCount_management(in_rows = shp)"
   ]
  },
  {
   "cell_type": "code",
   "execution_count": 101,
   "metadata": {},
   "outputs": [
    {
     "data": {
      "text/plain": [
       "<Result 'D:\\\\COURSES\\\\ADAS_intern\\\\arcpy_env\\\\GisData\\\\DZT_30s_xxLevel.shp'>"
      ]
     },
     "execution_count": 101,
     "metadata": {},
     "output_type": "execute_result"
    }
   ],
   "source": [
    "arcpy.CalculateField_management(shp, \"物理主\", \n",
    "                                expression, \n",
    "                                \"PYTHON\")"
   ]
  },
  {
   "cell_type": "markdown",
   "metadata": {},
   "source": [
    "### 6.4\n",
    "删除多余字段"
   ]
  },
  {
   "cell_type": "code",
   "execution_count": 102,
   "metadata": {},
   "outputs": [],
   "source": [
    "delFields = [\"Join_Count\", \"TARGET_FID\", \"oid_1\", \n",
    "             \"rows\", \"colums\", \"area_code\", \"ORIG_FID\", \n",
    "             \"Shape_Length_1\", \"Shape_Area_1\", \"编号\", \n",
    "             \"FREQUENCY\", \"djz_zb\", \"等级\", \"Id\"]\n",
    "# delFields += [\"Shape_Length\", \"Shape_Area\"]\n",
    "# getFieldList(shp)"
   ]
  },
  {
   "cell_type": "code",
   "execution_count": 103,
   "metadata": {},
   "outputs": [
    {
     "data": {
      "text/plain": [
       "<Result 'D:\\\\COURSES\\\\ADAS_intern\\\\arcpy_env\\\\GisData\\\\DZT_30s_xxLevel.shp'>"
      ]
     },
     "execution_count": 103,
     "metadata": {},
     "output_type": "execute_result"
    }
   ],
   "source": [
    "# delete in batch\n",
    "arcpy.DeleteField_management(in_table = shp, \n",
    "                             drop_field = \";\".join(delFields)) "
   ]
  },
  {
   "cell_type": "markdown",
   "metadata": {},
   "source": [
    "### 6.5 \n",
    "调整字段顺序"
   ]
  },
  {
   "cell_type": "code",
   "execution_count": 104,
   "metadata": {},
   "outputs": [
    {
     "name": "stdout",
     "output_type": "stream",
     "text": [
      "[u'\\u7269\\u7406\\u4e3b', u'\\u8c03\\u67e5\\u5bf9', u'\\u884c\\u7701', u'\\u884c\\u5e02', u'\\u884c\\u53bf', u'\\u66f4\\u65f6', u'\\u5199\\u65f6', u'\\u6570\\u636e\\u72b6', u'\\u5ba1\\u6838\\u6d41', u'\\u5ba1\\u6838\\u72b6', u'\\u884c\\u4e1a', u'\\u65e5\\u671f\\u5206', u'\\u6279\\u6b21\\u53f7', u'\\u4e61', u'\\u7b49\\u7ea7\\u503c']\n"
     ]
    }
   ],
   "source": [
    "fieldOrder = [unicode(x[0], 'utf-8') for x in fieldsInfo]\n",
    "# fieldOrder.insert(-1, unicode(\"乡\", 'utf-8'))\n",
    "# print(fieldOrder)"
   ]
  },
  {
   "cell_type": "code",
   "execution_count": 108,
   "metadata": {},
   "outputs": [
    {
     "data": {
      "text/plain": [
       "'DZT_30s_xxLevel.shp'"
      ]
     },
     "execution_count": 108,
     "metadata": {},
     "output_type": "execute_result"
    }
   ],
   "source": [
    "arcpy.CopyFeatures_management(shp, \"tmp.shp\")\n",
    "reorder_fields(table = \"tmp.shp\", out_table = shp, \n",
    "               field_order = fieldOrder)"
   ]
  },
  {
   "cell_type": "markdown",
   "metadata": {},
   "source": [
    "### 7\n",
    "复制, 并按要求命名"
   ]
  },
  {
   "cell_type": "code",
   "execution_count": 191,
   "metadata": {},
   "outputs": [
    {
     "name": "stdout",
     "output_type": "stream",
     "text": [
      "地质灾害风险区划图_山西省太原市迎泽区.shp\n",
      "Already exist.\n",
      "Successfully delete the old 地质灾害风险区划图_山西省太原市迎泽区.shp.\n"
     ]
    }
   ],
   "source": [
    "inFeatures = \"DZT_30s_xxLevel.shp\"\n",
    "outFeatures = figName + \"_山西省\" + \"\".join(regionName.split('-')) + \".shp\"\n",
    "print(outFeatures)\n",
    "deleteIfExist(outFeatures)"
   ]
  },
  {
   "cell_type": "code",
   "execution_count": 192,
   "metadata": {},
   "outputs": [
    {
     "name": "stdout",
     "output_type": "stream",
     "text": [
      "Copy success.\n"
     ]
    }
   ],
   "source": [
    "try:\n",
    "    arcpy.CopyFeatures_management(in_features = inFeatures, out_feature_class = outFeatures)\n",
    "    print(\"Copy success.\")\n",
    "except Exception as e:\n",
    "    print(e)"
   ]
  },
  {
   "cell_type": "markdown",
   "metadata": {},
   "source": [
    "# ----------------------------------------------------------------------------TEST"
   ]
  },
  {
   "cell_type": "code",
   "execution_count": null,
   "metadata": {},
   "outputs": [],
   "source": []
  }
 ],
 "metadata": {
  "kernelspec": {
   "display_name": "Python 3 (ipykernel)",
   "language": "python",
   "name": "python3"
  },
  "language_info": {
   "codemirror_mode": {
    "name": "ipython",
    "version": 2
   },
   "file_extension": ".py",
   "mimetype": "text/x-python",
   "name": "python",
   "nbconvert_exporter": "python",
   "pygments_lexer": "ipython2",
   "version": "2.7.14"
  },
  "toc": {
   "base_numbering": 1,
   "nav_menu": {},
   "number_sections": false,
   "sideBar": true,
   "skip_h1_title": false,
   "title_cell": "Table of Contents",
   "title_sidebar": "Contents",
   "toc_cell": false,
   "toc_position": {
    "height": "calc(100% - 180px)",
    "left": "10px",
    "top": "150px",
    "width": "290.594px"
   },
   "toc_section_display": true,
   "toc_window_display": true
  },
  "varInspector": {
   "cols": {
    "lenName": 16,
    "lenType": 16,
    "lenVar": 40
   },
   "kernels_config": {
    "python": {
     "delete_cmd_postfix": "",
     "delete_cmd_prefix": "del ",
     "library": "var_list.py",
     "varRefreshCmd": "print(var_dic_list())"
    },
    "r": {
     "delete_cmd_postfix": ") ",
     "delete_cmd_prefix": "rm(",
     "library": "var_list.r",
     "varRefreshCmd": "cat(var_dic_list()) "
    }
   },
   "types_to_exclude": [
    "module",
    "function",
    "builtin_function_or_method",
    "instance",
    "_Feature"
   ],
   "window_display": false
  },
  "vscode": {
   "interpreter": {
    "hash": "c7313a60c9c394208944419fb4e29796597f93f73c553da7ba663376bd72695c"
   }
  }
 },
 "nbformat": 4,
 "nbformat_minor": 2
}
